{
 "cells": [
  {
   "cell_type": "code",
   "execution_count": 1,
   "metadata": {},
   "outputs": [],
   "source": [
    "import pandas as pd\n",
    "import numpy as np"
   ]
  },
  {
   "cell_type": "markdown",
   "metadata": {},
   "source": [
    "# 1.数据读取"
   ]
  },
  {
   "cell_type": "markdown",
   "metadata": {},
   "source": [
    "利用pandas中merge函数合并多个csv文件，并通过主键(data)进行链接。当然也可以通过mysql等数据库工具对csv文件进行整理后再导入pandas。"
   ]
  },
  {
   "cell_type": "code",
   "execution_count": 2,
   "metadata": {},
   "outputs": [],
   "source": [
    "df_hpi = pd.read_csv(r\"C:\\Users\\zhouwentao\\Desktop\\data_totall\\monthly-hpi.csv\")   #主表，因变量，房价指数\n",
    "df_upl = pd.read_csv(r\"C:\\Users\\zhouwentao\\Desktop\\data_totall\\unemployment-macro.csv\") # 自变量，失业率\n",
    "df_ffr = pd.read_csv(r\"C:\\Users\\zhouwentao\\Desktop\\data_totall\\fed_funds.csv\")  #自变量，联邦利率\n",
    "df_cpi = pd.read_csv(r\"C:\\Users\\zhouwentao\\Desktop\\data_totall\\shiller.csv\")    #自变量，cpi指数，长期利率，sp500指数\n",
    "df_gdp = pd.read_csv(r\"C:\\Users\\zhouwentao\\Desktop\\data_totall\\gdp.csv\") #自变量，gdp"
   ]
  },
  {
   "cell_type": "code",
   "execution_count": 3,
   "metadata": {},
   "outputs": [],
   "source": [
    "df_data = df_cpi.merge(df_upl, on='date')\\\n",
    "                    .merge(df_gdp, on='date')\\\n",
    "                    .merge(df_ffr, on='date')\\\n",
    "                    .merge(df_hpi, on='date')"
   ]
  },
  {
   "cell_type": "code",
   "execution_count": 4,
   "metadata": {
    "scrolled": false
   },
   "outputs": [
    {
     "data": {
      "text/html": [
       "<div>\n",
       "<style scoped>\n",
       "    .dataframe tbody tr th:only-of-type {\n",
       "        vertical-align: middle;\n",
       "    }\n",
       "\n",
       "    .dataframe tbody tr th {\n",
       "        vertical-align: top;\n",
       "    }\n",
       "\n",
       "    .dataframe thead th {\n",
       "        text-align: right;\n",
       "    }\n",
       "</style>\n",
       "<table border=\"1\" class=\"dataframe\">\n",
       "  <thead>\n",
       "    <tr style=\"text-align: right;\">\n",
       "      <th></th>\n",
       "      <th>date</th>\n",
       "      <th>sp500</th>\n",
       "      <th>consumer_price_index</th>\n",
       "      <th>long_interest_rate</th>\n",
       "      <th>total_unemployed</th>\n",
       "      <th>more_than_15_weeks</th>\n",
       "      <th>not_in_labor_searched_for_work</th>\n",
       "      <th>multi_jobs</th>\n",
       "      <th>leavers</th>\n",
       "      <th>losers</th>\n",
       "      <th>total_expenditures</th>\n",
       "      <th>labor_force_pr</th>\n",
       "      <th>producer_price_index</th>\n",
       "      <th>gross_domestic_product</th>\n",
       "      <th>federal_funds_rate</th>\n",
       "      <th>housing_price_index</th>\n",
       "    </tr>\n",
       "  </thead>\n",
       "  <tbody>\n",
       "    <tr>\n",
       "      <th>0</th>\n",
       "      <td>2011-01-01</td>\n",
       "      <td>1282.62</td>\n",
       "      <td>220.22</td>\n",
       "      <td>3.39</td>\n",
       "      <td>16.2</td>\n",
       "      <td>8393</td>\n",
       "      <td>2800</td>\n",
       "      <td>6816</td>\n",
       "      <td>6.5</td>\n",
       "      <td>60.1</td>\n",
       "      <td>5766.7</td>\n",
       "      <td>64.2</td>\n",
       "      <td>192.7</td>\n",
       "      <td>14881.3</td>\n",
       "      <td>0.17</td>\n",
       "      <td>181.35</td>\n",
       "    </tr>\n",
       "    <tr>\n",
       "      <th>1</th>\n",
       "      <td>2011-04-01</td>\n",
       "      <td>1331.51</td>\n",
       "      <td>224.91</td>\n",
       "      <td>3.46</td>\n",
       "      <td>16.1</td>\n",
       "      <td>8016</td>\n",
       "      <td>2466</td>\n",
       "      <td>6823</td>\n",
       "      <td>6.8</td>\n",
       "      <td>59.4</td>\n",
       "      <td>5870.8</td>\n",
       "      <td>64.2</td>\n",
       "      <td>203.1</td>\n",
       "      <td>14989.6</td>\n",
       "      <td>0.10</td>\n",
       "      <td>180.80</td>\n",
       "    </tr>\n",
       "    <tr>\n",
       "      <th>2</th>\n",
       "      <td>2011-07-01</td>\n",
       "      <td>1325.19</td>\n",
       "      <td>225.92</td>\n",
       "      <td>3.00</td>\n",
       "      <td>15.9</td>\n",
       "      <td>8177</td>\n",
       "      <td>2785</td>\n",
       "      <td>6850</td>\n",
       "      <td>6.8</td>\n",
       "      <td>59.2</td>\n",
       "      <td>5802.6</td>\n",
       "      <td>64.0</td>\n",
       "      <td>204.6</td>\n",
       "      <td>15021.1</td>\n",
       "      <td>0.07</td>\n",
       "      <td>184.25</td>\n",
       "    </tr>\n",
       "    <tr>\n",
       "      <th>3</th>\n",
       "      <td>2011-10-01</td>\n",
       "      <td>1207.22</td>\n",
       "      <td>226.42</td>\n",
       "      <td>2.15</td>\n",
       "      <td>15.8</td>\n",
       "      <td>7802</td>\n",
       "      <td>2555</td>\n",
       "      <td>6917</td>\n",
       "      <td>8.0</td>\n",
       "      <td>57.9</td>\n",
       "      <td>5812.9</td>\n",
       "      <td>64.1</td>\n",
       "      <td>201.1</td>\n",
       "      <td>15190.3</td>\n",
       "      <td>0.07</td>\n",
       "      <td>181.51</td>\n",
       "    </tr>\n",
       "    <tr>\n",
       "      <th>4</th>\n",
       "      <td>2012-01-01</td>\n",
       "      <td>1300.58</td>\n",
       "      <td>226.66</td>\n",
       "      <td>1.97</td>\n",
       "      <td>15.2</td>\n",
       "      <td>7433</td>\n",
       "      <td>2809</td>\n",
       "      <td>7022</td>\n",
       "      <td>7.4</td>\n",
       "      <td>57.1</td>\n",
       "      <td>5765.7</td>\n",
       "      <td>63.7</td>\n",
       "      <td>200.7</td>\n",
       "      <td>15291.0</td>\n",
       "      <td>0.08</td>\n",
       "      <td>179.13</td>\n",
       "    </tr>\n",
       "  </tbody>\n",
       "</table>\n",
       "</div>"
      ],
      "text/plain": [
       "         date    sp500  consumer_price_index  long_interest_rate  \\\n",
       "0  2011-01-01  1282.62                220.22                3.39   \n",
       "1  2011-04-01  1331.51                224.91                3.46   \n",
       "2  2011-07-01  1325.19                225.92                3.00   \n",
       "3  2011-10-01  1207.22                226.42                2.15   \n",
       "4  2012-01-01  1300.58                226.66                1.97   \n",
       "\n",
       "   total_unemployed  more_than_15_weeks  not_in_labor_searched_for_work  \\\n",
       "0              16.2                8393                            2800   \n",
       "1              16.1                8016                            2466   \n",
       "2              15.9                8177                            2785   \n",
       "3              15.8                7802                            2555   \n",
       "4              15.2                7433                            2809   \n",
       "\n",
       "   multi_jobs  leavers  losers  total_expenditures  labor_force_pr  \\\n",
       "0        6816      6.5    60.1              5766.7            64.2   \n",
       "1        6823      6.8    59.4              5870.8            64.2   \n",
       "2        6850      6.8    59.2              5802.6            64.0   \n",
       "3        6917      8.0    57.9              5812.9            64.1   \n",
       "4        7022      7.4    57.1              5765.7            63.7   \n",
       "\n",
       "   producer_price_index  gross_domestic_product  federal_funds_rate  \\\n",
       "0                 192.7                 14881.3                0.17   \n",
       "1                 203.1                 14989.6                0.10   \n",
       "2                 204.6                 15021.1                0.07   \n",
       "3                 201.1                 15190.3                0.07   \n",
       "4                 200.7                 15291.0                0.08   \n",
       "\n",
       "   housing_price_index  \n",
       "0               181.35  \n",
       "1               180.80  \n",
       "2               184.25  \n",
       "3               181.51  \n",
       "4               179.13  "
      ]
     },
     "execution_count": 4,
     "metadata": {},
     "output_type": "execute_result"
    }
   ],
   "source": [
    "#查看数据结构\n",
    "df_data.head()"
   ]
  },
  {
   "cell_type": "code",
   "execution_count": 5,
   "metadata": {
    "scrolled": false
   },
   "outputs": [
    {
     "data": {
      "text/plain": [
       "(23, 16)"
      ]
     },
     "execution_count": 5,
     "metadata": {},
     "output_type": "execute_result"
    }
   ],
   "source": [
    "df_data.shape"
   ]
  },
  {
   "cell_type": "markdown",
   "metadata": {},
   "source": [
    "通过观察数据结构，可以看出housing_price_index是我们要预测的变量即因变量y，其他变量为观测变量也就是自变量x。可以结合专业知识和业务经验筛选变量，这里共有16个变量，23个样本量，date不作为变量，所以共15个变量。"
   ]
  },
  {
   "cell_type": "markdown",
   "metadata": {},
   "source": [
    "# 2.数据清洗"
   ]
  },
  {
   "cell_type": "markdown",
   "metadata": {},
   "source": [
    "2.1去除重复值"
   ]
  },
  {
   "cell_type": "code",
   "execution_count": 6,
   "metadata": {
    "scrolled": true
   },
   "outputs": [
    {
     "data": {
      "text/plain": [
       "0     False\n",
       "1     False\n",
       "2     False\n",
       "3     False\n",
       "4     False\n",
       "5     False\n",
       "6     False\n",
       "7     False\n",
       "8     False\n",
       "9     False\n",
       "10    False\n",
       "11    False\n",
       "12    False\n",
       "13    False\n",
       "14    False\n",
       "15    False\n",
       "16    False\n",
       "17    False\n",
       "18    False\n",
       "19    False\n",
       "20    False\n",
       "21    False\n",
       "22    False\n",
       "dtype: bool"
      ]
     },
     "execution_count": 6,
     "metadata": {},
     "output_type": "execute_result"
    }
   ],
   "source": [
    "#查看重复值\n",
    "df_data.duplicated()  "
   ]
  },
  {
   "cell_type": "markdown",
   "metadata": {},
   "source": [
    "注：如果有重复值，需要删除，用df_data.drop_duplicates(\"变量\")"
   ]
  },
  {
   "cell_type": "markdown",
   "metadata": {},
   "source": [
    "2.2 查看缺失值"
   ]
  },
  {
   "cell_type": "code",
   "execution_count": 7,
   "metadata": {
    "scrolled": true
   },
   "outputs": [
    {
     "data": {
      "text/html": [
       "<div>\n",
       "<style scoped>\n",
       "    .dataframe tbody tr th:only-of-type {\n",
       "        vertical-align: middle;\n",
       "    }\n",
       "\n",
       "    .dataframe tbody tr th {\n",
       "        vertical-align: top;\n",
       "    }\n",
       "\n",
       "    .dataframe thead th {\n",
       "        text-align: right;\n",
       "    }\n",
       "</style>\n",
       "<table border=\"1\" class=\"dataframe\">\n",
       "  <thead>\n",
       "    <tr style=\"text-align: right;\">\n",
       "      <th></th>\n",
       "      <th>date</th>\n",
       "      <th>sp500</th>\n",
       "      <th>consumer_price_index</th>\n",
       "      <th>long_interest_rate</th>\n",
       "      <th>total_unemployed</th>\n",
       "      <th>more_than_15_weeks</th>\n",
       "      <th>not_in_labor_searched_for_work</th>\n",
       "      <th>multi_jobs</th>\n",
       "      <th>leavers</th>\n",
       "      <th>losers</th>\n",
       "      <th>total_expenditures</th>\n",
       "      <th>labor_force_pr</th>\n",
       "      <th>producer_price_index</th>\n",
       "      <th>gross_domestic_product</th>\n",
       "      <th>federal_funds_rate</th>\n",
       "      <th>housing_price_index</th>\n",
       "    </tr>\n",
       "  </thead>\n",
       "  <tbody>\n",
       "    <tr>\n",
       "      <th>0</th>\n",
       "      <td>False</td>\n",
       "      <td>False</td>\n",
       "      <td>False</td>\n",
       "      <td>False</td>\n",
       "      <td>False</td>\n",
       "      <td>False</td>\n",
       "      <td>False</td>\n",
       "      <td>False</td>\n",
       "      <td>False</td>\n",
       "      <td>False</td>\n",
       "      <td>False</td>\n",
       "      <td>False</td>\n",
       "      <td>False</td>\n",
       "      <td>False</td>\n",
       "      <td>False</td>\n",
       "      <td>False</td>\n",
       "    </tr>\n",
       "    <tr>\n",
       "      <th>1</th>\n",
       "      <td>False</td>\n",
       "      <td>False</td>\n",
       "      <td>False</td>\n",
       "      <td>False</td>\n",
       "      <td>False</td>\n",
       "      <td>False</td>\n",
       "      <td>False</td>\n",
       "      <td>False</td>\n",
       "      <td>False</td>\n",
       "      <td>False</td>\n",
       "      <td>False</td>\n",
       "      <td>False</td>\n",
       "      <td>False</td>\n",
       "      <td>False</td>\n",
       "      <td>False</td>\n",
       "      <td>False</td>\n",
       "    </tr>\n",
       "    <tr>\n",
       "      <th>2</th>\n",
       "      <td>False</td>\n",
       "      <td>False</td>\n",
       "      <td>False</td>\n",
       "      <td>False</td>\n",
       "      <td>False</td>\n",
       "      <td>False</td>\n",
       "      <td>False</td>\n",
       "      <td>False</td>\n",
       "      <td>False</td>\n",
       "      <td>False</td>\n",
       "      <td>False</td>\n",
       "      <td>False</td>\n",
       "      <td>False</td>\n",
       "      <td>False</td>\n",
       "      <td>False</td>\n",
       "      <td>False</td>\n",
       "    </tr>\n",
       "    <tr>\n",
       "      <th>3</th>\n",
       "      <td>False</td>\n",
       "      <td>False</td>\n",
       "      <td>False</td>\n",
       "      <td>False</td>\n",
       "      <td>False</td>\n",
       "      <td>False</td>\n",
       "      <td>False</td>\n",
       "      <td>False</td>\n",
       "      <td>False</td>\n",
       "      <td>False</td>\n",
       "      <td>False</td>\n",
       "      <td>False</td>\n",
       "      <td>False</td>\n",
       "      <td>False</td>\n",
       "      <td>False</td>\n",
       "      <td>False</td>\n",
       "    </tr>\n",
       "    <tr>\n",
       "      <th>4</th>\n",
       "      <td>False</td>\n",
       "      <td>False</td>\n",
       "      <td>False</td>\n",
       "      <td>False</td>\n",
       "      <td>False</td>\n",
       "      <td>False</td>\n",
       "      <td>False</td>\n",
       "      <td>False</td>\n",
       "      <td>False</td>\n",
       "      <td>False</td>\n",
       "      <td>False</td>\n",
       "      <td>False</td>\n",
       "      <td>False</td>\n",
       "      <td>False</td>\n",
       "      <td>False</td>\n",
       "      <td>False</td>\n",
       "    </tr>\n",
       "    <tr>\n",
       "      <th>5</th>\n",
       "      <td>False</td>\n",
       "      <td>False</td>\n",
       "      <td>False</td>\n",
       "      <td>False</td>\n",
       "      <td>False</td>\n",
       "      <td>False</td>\n",
       "      <td>False</td>\n",
       "      <td>False</td>\n",
       "      <td>False</td>\n",
       "      <td>False</td>\n",
       "      <td>False</td>\n",
       "      <td>False</td>\n",
       "      <td>False</td>\n",
       "      <td>False</td>\n",
       "      <td>False</td>\n",
       "      <td>False</td>\n",
       "    </tr>\n",
       "    <tr>\n",
       "      <th>6</th>\n",
       "      <td>False</td>\n",
       "      <td>False</td>\n",
       "      <td>False</td>\n",
       "      <td>False</td>\n",
       "      <td>False</td>\n",
       "      <td>False</td>\n",
       "      <td>False</td>\n",
       "      <td>False</td>\n",
       "      <td>False</td>\n",
       "      <td>False</td>\n",
       "      <td>False</td>\n",
       "      <td>False</td>\n",
       "      <td>False</td>\n",
       "      <td>False</td>\n",
       "      <td>False</td>\n",
       "      <td>False</td>\n",
       "    </tr>\n",
       "    <tr>\n",
       "      <th>7</th>\n",
       "      <td>False</td>\n",
       "      <td>False</td>\n",
       "      <td>False</td>\n",
       "      <td>False</td>\n",
       "      <td>False</td>\n",
       "      <td>False</td>\n",
       "      <td>False</td>\n",
       "      <td>False</td>\n",
       "      <td>False</td>\n",
       "      <td>False</td>\n",
       "      <td>False</td>\n",
       "      <td>False</td>\n",
       "      <td>False</td>\n",
       "      <td>False</td>\n",
       "      <td>False</td>\n",
       "      <td>False</td>\n",
       "    </tr>\n",
       "    <tr>\n",
       "      <th>8</th>\n",
       "      <td>False</td>\n",
       "      <td>False</td>\n",
       "      <td>False</td>\n",
       "      <td>False</td>\n",
       "      <td>False</td>\n",
       "      <td>False</td>\n",
       "      <td>False</td>\n",
       "      <td>False</td>\n",
       "      <td>False</td>\n",
       "      <td>False</td>\n",
       "      <td>False</td>\n",
       "      <td>False</td>\n",
       "      <td>False</td>\n",
       "      <td>False</td>\n",
       "      <td>False</td>\n",
       "      <td>False</td>\n",
       "    </tr>\n",
       "    <tr>\n",
       "      <th>9</th>\n",
       "      <td>False</td>\n",
       "      <td>False</td>\n",
       "      <td>False</td>\n",
       "      <td>False</td>\n",
       "      <td>False</td>\n",
       "      <td>False</td>\n",
       "      <td>False</td>\n",
       "      <td>False</td>\n",
       "      <td>False</td>\n",
       "      <td>False</td>\n",
       "      <td>False</td>\n",
       "      <td>False</td>\n",
       "      <td>False</td>\n",
       "      <td>False</td>\n",
       "      <td>False</td>\n",
       "      <td>False</td>\n",
       "    </tr>\n",
       "    <tr>\n",
       "      <th>10</th>\n",
       "      <td>False</td>\n",
       "      <td>False</td>\n",
       "      <td>False</td>\n",
       "      <td>False</td>\n",
       "      <td>False</td>\n",
       "      <td>False</td>\n",
       "      <td>False</td>\n",
       "      <td>False</td>\n",
       "      <td>False</td>\n",
       "      <td>False</td>\n",
       "      <td>False</td>\n",
       "      <td>False</td>\n",
       "      <td>False</td>\n",
       "      <td>False</td>\n",
       "      <td>False</td>\n",
       "      <td>False</td>\n",
       "    </tr>\n",
       "    <tr>\n",
       "      <th>11</th>\n",
       "      <td>False</td>\n",
       "      <td>False</td>\n",
       "      <td>False</td>\n",
       "      <td>False</td>\n",
       "      <td>False</td>\n",
       "      <td>False</td>\n",
       "      <td>False</td>\n",
       "      <td>False</td>\n",
       "      <td>False</td>\n",
       "      <td>False</td>\n",
       "      <td>False</td>\n",
       "      <td>False</td>\n",
       "      <td>False</td>\n",
       "      <td>False</td>\n",
       "      <td>False</td>\n",
       "      <td>False</td>\n",
       "    </tr>\n",
       "    <tr>\n",
       "      <th>12</th>\n",
       "      <td>False</td>\n",
       "      <td>False</td>\n",
       "      <td>False</td>\n",
       "      <td>False</td>\n",
       "      <td>False</td>\n",
       "      <td>False</td>\n",
       "      <td>False</td>\n",
       "      <td>False</td>\n",
       "      <td>False</td>\n",
       "      <td>False</td>\n",
       "      <td>False</td>\n",
       "      <td>False</td>\n",
       "      <td>False</td>\n",
       "      <td>False</td>\n",
       "      <td>False</td>\n",
       "      <td>False</td>\n",
       "    </tr>\n",
       "    <tr>\n",
       "      <th>13</th>\n",
       "      <td>False</td>\n",
       "      <td>False</td>\n",
       "      <td>False</td>\n",
       "      <td>False</td>\n",
       "      <td>False</td>\n",
       "      <td>False</td>\n",
       "      <td>False</td>\n",
       "      <td>False</td>\n",
       "      <td>False</td>\n",
       "      <td>False</td>\n",
       "      <td>False</td>\n",
       "      <td>False</td>\n",
       "      <td>False</td>\n",
       "      <td>False</td>\n",
       "      <td>False</td>\n",
       "      <td>False</td>\n",
       "    </tr>\n",
       "    <tr>\n",
       "      <th>14</th>\n",
       "      <td>False</td>\n",
       "      <td>False</td>\n",
       "      <td>False</td>\n",
       "      <td>False</td>\n",
       "      <td>False</td>\n",
       "      <td>False</td>\n",
       "      <td>False</td>\n",
       "      <td>False</td>\n",
       "      <td>False</td>\n",
       "      <td>False</td>\n",
       "      <td>False</td>\n",
       "      <td>False</td>\n",
       "      <td>False</td>\n",
       "      <td>False</td>\n",
       "      <td>False</td>\n",
       "      <td>False</td>\n",
       "    </tr>\n",
       "    <tr>\n",
       "      <th>15</th>\n",
       "      <td>False</td>\n",
       "      <td>False</td>\n",
       "      <td>False</td>\n",
       "      <td>False</td>\n",
       "      <td>False</td>\n",
       "      <td>False</td>\n",
       "      <td>False</td>\n",
       "      <td>False</td>\n",
       "      <td>False</td>\n",
       "      <td>False</td>\n",
       "      <td>False</td>\n",
       "      <td>False</td>\n",
       "      <td>False</td>\n",
       "      <td>False</td>\n",
       "      <td>False</td>\n",
       "      <td>False</td>\n",
       "    </tr>\n",
       "    <tr>\n",
       "      <th>16</th>\n",
       "      <td>False</td>\n",
       "      <td>False</td>\n",
       "      <td>False</td>\n",
       "      <td>False</td>\n",
       "      <td>False</td>\n",
       "      <td>False</td>\n",
       "      <td>False</td>\n",
       "      <td>False</td>\n",
       "      <td>False</td>\n",
       "      <td>False</td>\n",
       "      <td>False</td>\n",
       "      <td>False</td>\n",
       "      <td>False</td>\n",
       "      <td>False</td>\n",
       "      <td>False</td>\n",
       "      <td>False</td>\n",
       "    </tr>\n",
       "    <tr>\n",
       "      <th>17</th>\n",
       "      <td>False</td>\n",
       "      <td>False</td>\n",
       "      <td>False</td>\n",
       "      <td>False</td>\n",
       "      <td>False</td>\n",
       "      <td>False</td>\n",
       "      <td>False</td>\n",
       "      <td>False</td>\n",
       "      <td>False</td>\n",
       "      <td>False</td>\n",
       "      <td>False</td>\n",
       "      <td>False</td>\n",
       "      <td>False</td>\n",
       "      <td>False</td>\n",
       "      <td>False</td>\n",
       "      <td>False</td>\n",
       "    </tr>\n",
       "    <tr>\n",
       "      <th>18</th>\n",
       "      <td>False</td>\n",
       "      <td>False</td>\n",
       "      <td>False</td>\n",
       "      <td>False</td>\n",
       "      <td>False</td>\n",
       "      <td>False</td>\n",
       "      <td>False</td>\n",
       "      <td>False</td>\n",
       "      <td>False</td>\n",
       "      <td>False</td>\n",
       "      <td>False</td>\n",
       "      <td>False</td>\n",
       "      <td>False</td>\n",
       "      <td>False</td>\n",
       "      <td>False</td>\n",
       "      <td>False</td>\n",
       "    </tr>\n",
       "    <tr>\n",
       "      <th>19</th>\n",
       "      <td>False</td>\n",
       "      <td>False</td>\n",
       "      <td>False</td>\n",
       "      <td>False</td>\n",
       "      <td>False</td>\n",
       "      <td>False</td>\n",
       "      <td>False</td>\n",
       "      <td>False</td>\n",
       "      <td>False</td>\n",
       "      <td>False</td>\n",
       "      <td>False</td>\n",
       "      <td>False</td>\n",
       "      <td>False</td>\n",
       "      <td>False</td>\n",
       "      <td>False</td>\n",
       "      <td>False</td>\n",
       "    </tr>\n",
       "    <tr>\n",
       "      <th>20</th>\n",
       "      <td>False</td>\n",
       "      <td>False</td>\n",
       "      <td>False</td>\n",
       "      <td>False</td>\n",
       "      <td>False</td>\n",
       "      <td>False</td>\n",
       "      <td>False</td>\n",
       "      <td>False</td>\n",
       "      <td>False</td>\n",
       "      <td>False</td>\n",
       "      <td>False</td>\n",
       "      <td>False</td>\n",
       "      <td>False</td>\n",
       "      <td>False</td>\n",
       "      <td>False</td>\n",
       "      <td>False</td>\n",
       "    </tr>\n",
       "    <tr>\n",
       "      <th>21</th>\n",
       "      <td>False</td>\n",
       "      <td>False</td>\n",
       "      <td>False</td>\n",
       "      <td>False</td>\n",
       "      <td>False</td>\n",
       "      <td>False</td>\n",
       "      <td>False</td>\n",
       "      <td>False</td>\n",
       "      <td>False</td>\n",
       "      <td>False</td>\n",
       "      <td>False</td>\n",
       "      <td>False</td>\n",
       "      <td>False</td>\n",
       "      <td>False</td>\n",
       "      <td>False</td>\n",
       "      <td>False</td>\n",
       "    </tr>\n",
       "    <tr>\n",
       "      <th>22</th>\n",
       "      <td>False</td>\n",
       "      <td>False</td>\n",
       "      <td>False</td>\n",
       "      <td>False</td>\n",
       "      <td>False</td>\n",
       "      <td>False</td>\n",
       "      <td>False</td>\n",
       "      <td>False</td>\n",
       "      <td>False</td>\n",
       "      <td>False</td>\n",
       "      <td>False</td>\n",
       "      <td>False</td>\n",
       "      <td>False</td>\n",
       "      <td>False</td>\n",
       "      <td>False</td>\n",
       "      <td>False</td>\n",
       "    </tr>\n",
       "  </tbody>\n",
       "</table>\n",
       "</div>"
      ],
      "text/plain": [
       "     date  sp500  consumer_price_index  long_interest_rate  total_unemployed  \\\n",
       "0   False  False                 False               False             False   \n",
       "1   False  False                 False               False             False   \n",
       "2   False  False                 False               False             False   \n",
       "3   False  False                 False               False             False   \n",
       "4   False  False                 False               False             False   \n",
       "5   False  False                 False               False             False   \n",
       "6   False  False                 False               False             False   \n",
       "7   False  False                 False               False             False   \n",
       "8   False  False                 False               False             False   \n",
       "9   False  False                 False               False             False   \n",
       "10  False  False                 False               False             False   \n",
       "11  False  False                 False               False             False   \n",
       "12  False  False                 False               False             False   \n",
       "13  False  False                 False               False             False   \n",
       "14  False  False                 False               False             False   \n",
       "15  False  False                 False               False             False   \n",
       "16  False  False                 False               False             False   \n",
       "17  False  False                 False               False             False   \n",
       "18  False  False                 False               False             False   \n",
       "19  False  False                 False               False             False   \n",
       "20  False  False                 False               False             False   \n",
       "21  False  False                 False               False             False   \n",
       "22  False  False                 False               False             False   \n",
       "\n",
       "    more_than_15_weeks  not_in_labor_searched_for_work  multi_jobs  leavers  \\\n",
       "0                False                           False       False    False   \n",
       "1                False                           False       False    False   \n",
       "2                False                           False       False    False   \n",
       "3                False                           False       False    False   \n",
       "4                False                           False       False    False   \n",
       "5                False                           False       False    False   \n",
       "6                False                           False       False    False   \n",
       "7                False                           False       False    False   \n",
       "8                False                           False       False    False   \n",
       "9                False                           False       False    False   \n",
       "10               False                           False       False    False   \n",
       "11               False                           False       False    False   \n",
       "12               False                           False       False    False   \n",
       "13               False                           False       False    False   \n",
       "14               False                           False       False    False   \n",
       "15               False                           False       False    False   \n",
       "16               False                           False       False    False   \n",
       "17               False                           False       False    False   \n",
       "18               False                           False       False    False   \n",
       "19               False                           False       False    False   \n",
       "20               False                           False       False    False   \n",
       "21               False                           False       False    False   \n",
       "22               False                           False       False    False   \n",
       "\n",
       "    losers  total_expenditures  labor_force_pr  producer_price_index  \\\n",
       "0    False               False           False                 False   \n",
       "1    False               False           False                 False   \n",
       "2    False               False           False                 False   \n",
       "3    False               False           False                 False   \n",
       "4    False               False           False                 False   \n",
       "5    False               False           False                 False   \n",
       "6    False               False           False                 False   \n",
       "7    False               False           False                 False   \n",
       "8    False               False           False                 False   \n",
       "9    False               False           False                 False   \n",
       "10   False               False           False                 False   \n",
       "11   False               False           False                 False   \n",
       "12   False               False           False                 False   \n",
       "13   False               False           False                 False   \n",
       "14   False               False           False                 False   \n",
       "15   False               False           False                 False   \n",
       "16   False               False           False                 False   \n",
       "17   False               False           False                 False   \n",
       "18   False               False           False                 False   \n",
       "19   False               False           False                 False   \n",
       "20   False               False           False                 False   \n",
       "21   False               False           False                 False   \n",
       "22   False               False           False                 False   \n",
       "\n",
       "    gross_domestic_product  federal_funds_rate  housing_price_index  \n",
       "0                    False               False                False  \n",
       "1                    False               False                False  \n",
       "2                    False               False                False  \n",
       "3                    False               False                False  \n",
       "4                    False               False                False  \n",
       "5                    False               False                False  \n",
       "6                    False               False                False  \n",
       "7                    False               False                False  \n",
       "8                    False               False                False  \n",
       "9                    False               False                False  \n",
       "10                   False               False                False  \n",
       "11                   False               False                False  \n",
       "12                   False               False                False  \n",
       "13                   False               False                False  \n",
       "14                   False               False                False  \n",
       "15                   False               False                False  \n",
       "16                   False               False                False  \n",
       "17                   False               False                False  \n",
       "18                   False               False                False  \n",
       "19                   False               False                False  \n",
       "20                   False               False                False  \n",
       "21                   False               False                False  \n",
       "22                   False               False                False  "
      ]
     },
     "execution_count": 7,
     "metadata": {},
     "output_type": "execute_result"
    }
   ],
   "source": [
    "df_data.isnull()"
   ]
  },
  {
   "cell_type": "markdown",
   "metadata": {},
   "source": [
    "注：如果有缺失值则需要填充，可以选择平均数、中位数、众数进行填充，到底选用哪一种方法，需要结合具体数据以及业务经验确定。"
   ]
  },
  {
   "cell_type": "markdown",
   "metadata": {},
   "source": [
    "2.3 异常值检测及处理"
   ]
  },
  {
   "cell_type": "code",
   "execution_count": 8,
   "metadata": {
    "scrolled": false
   },
   "outputs": [
    {
     "data": {
      "text/html": [
       "<div>\n",
       "<style scoped>\n",
       "    .dataframe tbody tr th:only-of-type {\n",
       "        vertical-align: middle;\n",
       "    }\n",
       "\n",
       "    .dataframe tbody tr th {\n",
       "        vertical-align: top;\n",
       "    }\n",
       "\n",
       "    .dataframe thead th {\n",
       "        text-align: right;\n",
       "    }\n",
       "</style>\n",
       "<table border=\"1\" class=\"dataframe\">\n",
       "  <thead>\n",
       "    <tr style=\"text-align: right;\">\n",
       "      <th></th>\n",
       "      <th>sp500</th>\n",
       "      <th>consumer_price_index</th>\n",
       "      <th>long_interest_rate</th>\n",
       "      <th>total_unemployed</th>\n",
       "      <th>more_than_15_weeks</th>\n",
       "      <th>not_in_labor_searched_for_work</th>\n",
       "      <th>multi_jobs</th>\n",
       "      <th>leavers</th>\n",
       "      <th>losers</th>\n",
       "      <th>total_expenditures</th>\n",
       "      <th>labor_force_pr</th>\n",
       "      <th>producer_price_index</th>\n",
       "      <th>gross_domestic_product</th>\n",
       "      <th>federal_funds_rate</th>\n",
       "      <th>housing_price_index</th>\n",
       "    </tr>\n",
       "  </thead>\n",
       "  <tbody>\n",
       "    <tr>\n",
       "      <th>count</th>\n",
       "      <td>23.000000</td>\n",
       "      <td>23.000000</td>\n",
       "      <td>23.00000</td>\n",
       "      <td>23.000000</td>\n",
       "      <td>23.000000</td>\n",
       "      <td>23.000000</td>\n",
       "      <td>23.000000</td>\n",
       "      <td>23.000000</td>\n",
       "      <td>23.000000</td>\n",
       "      <td>23.000000</td>\n",
       "      <td>23.000000</td>\n",
       "      <td>23.000000</td>\n",
       "      <td>23.000000</td>\n",
       "      <td>23.000000</td>\n",
       "      <td>23.000000</td>\n",
       "    </tr>\n",
       "    <tr>\n",
       "      <th>mean</th>\n",
       "      <td>1697.955652</td>\n",
       "      <td>232.821739</td>\n",
       "      <td>2.26913</td>\n",
       "      <td>13.004348</td>\n",
       "      <td>5602.521739</td>\n",
       "      <td>2317.173913</td>\n",
       "      <td>7088.217391</td>\n",
       "      <td>8.495652</td>\n",
       "      <td>52.917391</td>\n",
       "      <td>5914.082609</td>\n",
       "      <td>63.265217</td>\n",
       "      <td>198.421739</td>\n",
       "      <td>15795.756522</td>\n",
       "      <td>0.145217</td>\n",
       "      <td>204.955652</td>\n",
       "    </tr>\n",
       "    <tr>\n",
       "      <th>std</th>\n",
       "      <td>322.596751</td>\n",
       "      <td>5.405947</td>\n",
       "      <td>0.54516</td>\n",
       "      <td>2.267052</td>\n",
       "      <td>1801.301143</td>\n",
       "      <td>294.338187</td>\n",
       "      <td>248.798742</td>\n",
       "      <td>1.316496</td>\n",
       "      <td>4.059854</td>\n",
       "      <td>176.572817</td>\n",
       "      <td>0.561337</td>\n",
       "      <td>7.786875</td>\n",
       "      <td>571.226411</td>\n",
       "      <td>0.093121</td>\n",
       "      <td>19.364036</td>\n",
       "    </tr>\n",
       "    <tr>\n",
       "      <th>min</th>\n",
       "      <td>1207.220000</td>\n",
       "      <td>220.220000</td>\n",
       "      <td>1.50000</td>\n",
       "      <td>9.700000</td>\n",
       "      <td>3175.000000</td>\n",
       "      <td>1715.000000</td>\n",
       "      <td>6816.000000</td>\n",
       "      <td>6.500000</td>\n",
       "      <td>47.600000</td>\n",
       "      <td>5745.400000</td>\n",
       "      <td>62.500000</td>\n",
       "      <td>182.600000</td>\n",
       "      <td>14881.300000</td>\n",
       "      <td>0.070000</td>\n",
       "      <td>179.130000</td>\n",
       "    </tr>\n",
       "    <tr>\n",
       "      <th>25%</th>\n",
       "      <td>1373.105000</td>\n",
       "      <td>229.595000</td>\n",
       "      <td>1.89500</td>\n",
       "      <td>11.050000</td>\n",
       "      <td>3912.000000</td>\n",
       "      <td>2137.500000</td>\n",
       "      <td>6895.500000</td>\n",
       "      <td>7.500000</td>\n",
       "      <td>49.200000</td>\n",
       "      <td>5773.600000</td>\n",
       "      <td>62.800000</td>\n",
       "      <td>192.350000</td>\n",
       "      <td>15371.600000</td>\n",
       "      <td>0.090000</td>\n",
       "      <td>187.840000</td>\n",
       "    </tr>\n",
       "    <tr>\n",
       "      <th>50%</th>\n",
       "      <td>1720.030000</td>\n",
       "      <td>233.600000</td>\n",
       "      <td>2.09000</td>\n",
       "      <td>13.600000</td>\n",
       "      <td>5807.000000</td>\n",
       "      <td>2347.000000</td>\n",
       "      <td>7007.000000</td>\n",
       "      <td>8.200000</td>\n",
       "      <td>53.600000</td>\n",
       "      <td>5841.400000</td>\n",
       "      <td>62.900000</td>\n",
       "      <td>202.500000</td>\n",
       "      <td>15747.000000</td>\n",
       "      <td>0.120000</td>\n",
       "      <td>205.440000</td>\n",
       "    </tr>\n",
       "    <tr>\n",
       "      <th>75%</th>\n",
       "      <td>1998.955000</td>\n",
       "      <td>237.250000</td>\n",
       "      <td>2.60000</td>\n",
       "      <td>14.700000</td>\n",
       "      <td>7027.500000</td>\n",
       "      <td>2497.500000</td>\n",
       "      <td>7308.000000</td>\n",
       "      <td>9.700000</td>\n",
       "      <td>55.500000</td>\n",
       "      <td>5970.850000</td>\n",
       "      <td>63.700000</td>\n",
       "      <td>203.600000</td>\n",
       "      <td>16321.600000</td>\n",
       "      <td>0.155000</td>\n",
       "      <td>218.645000</td>\n",
       "    </tr>\n",
       "    <tr>\n",
       "      <th>max</th>\n",
       "      <td>2148.900000</td>\n",
       "      <td>240.650000</td>\n",
       "      <td>3.46000</td>\n",
       "      <td>16.200000</td>\n",
       "      <td>8393.000000</td>\n",
       "      <td>2809.000000</td>\n",
       "      <td>7577.000000</td>\n",
       "      <td>10.900000</td>\n",
       "      <td>60.100000</td>\n",
       "      <td>6307.500000</td>\n",
       "      <td>64.200000</td>\n",
       "      <td>208.300000</td>\n",
       "      <td>16727.000000</td>\n",
       "      <td>0.390000</td>\n",
       "      <td>241.590000</td>\n",
       "    </tr>\n",
       "  </tbody>\n",
       "</table>\n",
       "</div>"
      ],
      "text/plain": [
       "             sp500  consumer_price_index  long_interest_rate  \\\n",
       "count    23.000000             23.000000            23.00000   \n",
       "mean   1697.955652            232.821739             2.26913   \n",
       "std     322.596751              5.405947             0.54516   \n",
       "min    1207.220000            220.220000             1.50000   \n",
       "25%    1373.105000            229.595000             1.89500   \n",
       "50%    1720.030000            233.600000             2.09000   \n",
       "75%    1998.955000            237.250000             2.60000   \n",
       "max    2148.900000            240.650000             3.46000   \n",
       "\n",
       "       total_unemployed  more_than_15_weeks  not_in_labor_searched_for_work  \\\n",
       "count         23.000000           23.000000                       23.000000   \n",
       "mean          13.004348         5602.521739                     2317.173913   \n",
       "std            2.267052         1801.301143                      294.338187   \n",
       "min            9.700000         3175.000000                     1715.000000   \n",
       "25%           11.050000         3912.000000                     2137.500000   \n",
       "50%           13.600000         5807.000000                     2347.000000   \n",
       "75%           14.700000         7027.500000                     2497.500000   \n",
       "max           16.200000         8393.000000                     2809.000000   \n",
       "\n",
       "        multi_jobs    leavers     losers  total_expenditures  labor_force_pr  \\\n",
       "count    23.000000  23.000000  23.000000           23.000000       23.000000   \n",
       "mean   7088.217391   8.495652  52.917391         5914.082609       63.265217   \n",
       "std     248.798742   1.316496   4.059854          176.572817        0.561337   \n",
       "min    6816.000000   6.500000  47.600000         5745.400000       62.500000   \n",
       "25%    6895.500000   7.500000  49.200000         5773.600000       62.800000   \n",
       "50%    7007.000000   8.200000  53.600000         5841.400000       62.900000   \n",
       "75%    7308.000000   9.700000  55.500000         5970.850000       63.700000   \n",
       "max    7577.000000  10.900000  60.100000         6307.500000       64.200000   \n",
       "\n",
       "       producer_price_index  gross_domestic_product  federal_funds_rate  \\\n",
       "count             23.000000               23.000000           23.000000   \n",
       "mean             198.421739            15795.756522            0.145217   \n",
       "std                7.786875              571.226411            0.093121   \n",
       "min              182.600000            14881.300000            0.070000   \n",
       "25%              192.350000            15371.600000            0.090000   \n",
       "50%              202.500000            15747.000000            0.120000   \n",
       "75%              203.600000            16321.600000            0.155000   \n",
       "max              208.300000            16727.000000            0.390000   \n",
       "\n",
       "       housing_price_index  \n",
       "count            23.000000  \n",
       "mean            204.955652  \n",
       "std              19.364036  \n",
       "min             179.130000  \n",
       "25%             187.840000  \n",
       "50%             205.440000  \n",
       "75%             218.645000  \n",
       "max             241.590000  "
      ]
     },
     "execution_count": 8,
     "metadata": {},
     "output_type": "execute_result"
    }
   ],
   "source": [
    "#查看有无异常值\n",
    "df_data.describe() "
   ]
  },
  {
   "cell_type": "markdown",
   "metadata": {},
   "source": [
    "通过预览数据整体情况，重点关注平均值，标准差，最大值，最小值等查看有无异常值的存在。fillna()函数进行填充;dropna()进行删除空值。"
   ]
  },
  {
   "cell_type": "markdown",
   "metadata": {},
   "source": [
    "异常值检测方法："
   ]
  },
  {
   "cell_type": "markdown",
   "metadata": {},
   "source": [
    "方法一：3sigma原则：若正态分布，异常值定义为偏差超出平均值的三倍标准差；否则，可用远离平均值的多少倍来描述。"
   ]
  },
  {
   "cell_type": "markdown",
   "metadata": {},
   "source": [
    "方法二：箱线图分析：异常值定义为小于Q_L-1.5IQR或者大于Q_U +1.5IQR。Q_L是下四分位数，全部数据有四分之一比他小。Q_U是上四分位数。IQR称为四分位数间距\n"
   ]
  },
  {
   "cell_type": "markdown",
   "metadata": {},
   "source": [
    "# 3.预分析(特征选择)"
   ]
  },
  {
   "cell_type": "markdown",
   "metadata": {},
   "source": [
    "预分析用来筛选合适的特征（变量）。可以使用相关性分析或者绘制散点图来检查x与y是否呈线性关系，x与x是否有共线性,从而来筛选变量。变量筛选尤为重要，如果筛选不当会产生过拟合或是欠拟合现象。"
   ]
  },
  {
   "cell_type": "markdown",
   "metadata": {},
   "source": [
    "#方法一：调用seaborn包，做散点图，分析相关性"
   ]
  },
  {
   "cell_type": "code",
   "execution_count": 9,
   "metadata": {},
   "outputs": [],
   "source": [
    "import seaborn as sns"
   ]
  },
  {
   "cell_type": "code",
   "execution_count": 10,
   "metadata": {},
   "outputs": [
    {
     "data": {
      "image/png": "[encoded data removed]",
      "text/plain": [
       "<matplotlib.figure.Figure at 0x1be39099400>"
      ]
     },
     "metadata": {},
     "output_type": "display_data"
    }
   ],
   "source": [
    "sns.pairplot(df_data, x_vars=['sp500','consumer_price_index','long_interest_rate',\\\n",
    "                              'total_unemployed','more_than_15_weeks','not_in_labor_searched_for_work',\\\n",
    "                              'multi_jobs','leavers','losers',\\\n",
    "                              'total_expenditures','labor_force_pr','producer_price_index',\\\n",
    "                              'gross_domestic_product','federal_funds_rate'], y_vars='housing_price_index', size=5,aspect=1)\n",
    "plt.show()"
   ]
  },
  {
   "cell_type": "markdown",
   "metadata": {},
   "source": [
    "通过散点图可以看出：long_interest_rate(10年期债券收益率)与phi相关性并不明显，考虑到模型的准确性，排除lir； producer_price_index(生产者价格指数),federal_funds_rate(联邦基金利率/同业拆借利率)与phi房价指数呈微弱相关，可以保留；最终保留8个特征进入模型"
   ]
  },
  {
   "cell_type": "markdown",
   "metadata": {},
   "source": [
    "#方法二：pandas中带有相关系数函数pandas.corr()，pandas.DataFrame.corr(),要求数据的type是DataFrame,return的结果也是DataFame格式。pandas.corr()返回的是相关系数矩阵，列与列的两两相关。对于相关系数的判定标准不一，根据自己的需要进行合理解释，这里采用标准<0.3,微相关或不相关，0.3 - 0.5 低度相关,0.5 - 0.8 显著相关,0.8 - 1 高度相关。注：.corr()默认为皮尔逊相关。"
   ]
  },
  {
   "cell_type": "code",
   "execution_count": 102,
   "metadata": {},
   "outputs": [
    {
     "data": {
      "text/plain": [
       "pandas.core.frame.DataFrame"
      ]
     },
     "execution_count": 102,
     "metadata": {},
     "output_type": "execute_result"
    }
   ],
   "source": [
    "type(df_data)"
   ]
  },
  {
   "cell_type": "code",
   "execution_count": 11,
   "metadata": {
    "scrolled": true
   },
   "outputs": [
    {
     "data": {
      "text/html": [
       "<div>\n",
       "<style scoped>\n",
       "    .dataframe tbody tr th:only-of-type {\n",
       "        vertical-align: middle;\n",
       "    }\n",
       "\n",
       "    .dataframe tbody tr th {\n",
       "        vertical-align: top;\n",
       "    }\n",
       "\n",
       "    .dataframe thead th {\n",
       "        text-align: right;\n",
       "    }\n",
       "</style>\n",
       "<table border=\"1\" class=\"dataframe\">\n",
       "  <thead>\n",
       "    <tr style=\"text-align: right;\">\n",
       "      <th></th>\n",
       "      <th>sp500</th>\n",
       "      <th>consumer_price_index</th>\n",
       "      <th>long_interest_rate</th>\n",
       "      <th>total_unemployed</th>\n",
       "      <th>more_than_15_weeks</th>\n",
       "      <th>not_in_labor_searched_for_work</th>\n",
       "      <th>multi_jobs</th>\n",
       "      <th>leavers</th>\n",
       "      <th>losers</th>\n",
       "      <th>total_expenditures</th>\n",
       "      <th>labor_force_pr</th>\n",
       "      <th>producer_price_index</th>\n",
       "      <th>gross_domestic_product</th>\n",
       "      <th>federal_funds_rate</th>\n",
       "      <th>housing_price_index</th>\n",
       "    </tr>\n",
       "  </thead>\n",
       "  <tbody>\n",
       "    <tr>\n",
       "      <th>sp500</th>\n",
       "      <td>1.000000</td>\n",
       "      <td>0.923372</td>\n",
       "      <td>-0.268089</td>\n",
       "      <td>-0.959047</td>\n",
       "      <td>-0.971915</td>\n",
       "      <td>-0.856560</td>\n",
       "      <td>0.742614</td>\n",
       "      <td>0.855760</td>\n",
       "      <td>-0.913242</td>\n",
       "      <td>0.781037</td>\n",
       "      <td>-0.941233</td>\n",
       "      <td>-0.496051</td>\n",
       "      <td>0.959274</td>\n",
       "      <td>0.372566</td>\n",
       "      <td>0.960468</td>\n",
       "    </tr>\n",
       "    <tr>\n",
       "      <th>consumer_price_index</th>\n",
       "      <td>0.923372</td>\n",
       "      <td>1.000000</td>\n",
       "      <td>-0.434417</td>\n",
       "      <td>-0.921749</td>\n",
       "      <td>-0.939406</td>\n",
       "      <td>-0.883247</td>\n",
       "      <td>0.714263</td>\n",
       "      <td>0.841448</td>\n",
       "      <td>-0.909034</td>\n",
       "      <td>0.722605</td>\n",
       "      <td>-0.926848</td>\n",
       "      <td>-0.335281</td>\n",
       "      <td>0.933372</td>\n",
       "      <td>0.384849</td>\n",
       "      <td>0.923467</td>\n",
       "    </tr>\n",
       "    <tr>\n",
       "      <th>long_interest_rate</th>\n",
       "      <td>-0.268089</td>\n",
       "      <td>-0.434417</td>\n",
       "      <td>1.000000</td>\n",
       "      <td>0.410265</td>\n",
       "      <td>0.403301</td>\n",
       "      <td>0.403981</td>\n",
       "      <td>-0.411748</td>\n",
       "      <td>-0.509524</td>\n",
       "      <td>0.494381</td>\n",
       "      <td>-0.298756</td>\n",
       "      <td>0.295334</td>\n",
       "      <td>0.344231</td>\n",
       "      <td>-0.451033</td>\n",
       "      <td>-0.441148</td>\n",
       "      <td>-0.353817</td>\n",
       "    </tr>\n",
       "    <tr>\n",
       "      <th>total_unemployed</th>\n",
       "      <td>-0.959047</td>\n",
       "      <td>-0.921749</td>\n",
       "      <td>0.410265</td>\n",
       "      <td>1.000000</td>\n",
       "      <td>0.994147</td>\n",
       "      <td>0.896420</td>\n",
       "      <td>-0.825065</td>\n",
       "      <td>-0.917441</td>\n",
       "      <td>0.929736</td>\n",
       "      <td>-0.872403</td>\n",
       "      <td>0.925589</td>\n",
       "      <td>0.641777</td>\n",
       "      <td>-0.991416</td>\n",
       "      <td>-0.517291</td>\n",
       "      <td>-0.975517</td>\n",
       "    </tr>\n",
       "    <tr>\n",
       "      <th>more_than_15_weeks</th>\n",
       "      <td>-0.971915</td>\n",
       "      <td>-0.939406</td>\n",
       "      <td>0.403301</td>\n",
       "      <td>0.994147</td>\n",
       "      <td>1.000000</td>\n",
       "      <td>0.893572</td>\n",
       "      <td>-0.803648</td>\n",
       "      <td>-0.905185</td>\n",
       "      <td>0.944514</td>\n",
       "      <td>-0.836933</td>\n",
       "      <td>0.944752</td>\n",
       "      <td>0.586836</td>\n",
       "      <td>-0.993347</td>\n",
       "      <td>-0.464792</td>\n",
       "      <td>-0.972029</td>\n",
       "    </tr>\n",
       "    <tr>\n",
       "      <th>not_in_labor_searched_for_work</th>\n",
       "      <td>-0.856560</td>\n",
       "      <td>-0.883247</td>\n",
       "      <td>0.403981</td>\n",
       "      <td>0.896420</td>\n",
       "      <td>0.893572</td>\n",
       "      <td>1.000000</td>\n",
       "      <td>-0.727847</td>\n",
       "      <td>-0.874050</td>\n",
       "      <td>0.821083</td>\n",
       "      <td>-0.825992</td>\n",
       "      <td>0.805012</td>\n",
       "      <td>0.550419</td>\n",
       "      <td>-0.899720</td>\n",
       "      <td>-0.534462</td>\n",
       "      <td>-0.903926</td>\n",
       "    </tr>\n",
       "    <tr>\n",
       "      <th>multi_jobs</th>\n",
       "      <td>0.742614</td>\n",
       "      <td>0.714263</td>\n",
       "      <td>-0.411748</td>\n",
       "      <td>-0.825065</td>\n",
       "      <td>-0.803648</td>\n",
       "      <td>-0.727847</td>\n",
       "      <td>1.000000</td>\n",
       "      <td>0.773518</td>\n",
       "      <td>-0.809372</td>\n",
       "      <td>0.784621</td>\n",
       "      <td>-0.691852</td>\n",
       "      <td>-0.595127</td>\n",
       "      <td>0.823856</td>\n",
       "      <td>0.497295</td>\n",
       "      <td>0.789606</td>\n",
       "    </tr>\n",
       "    <tr>\n",
       "      <th>leavers</th>\n",
       "      <td>0.855760</td>\n",
       "      <td>0.841448</td>\n",
       "      <td>-0.509524</td>\n",
       "      <td>-0.917441</td>\n",
       "      <td>-0.905185</td>\n",
       "      <td>-0.874050</td>\n",
       "      <td>0.773518</td>\n",
       "      <td>1.000000</td>\n",
       "      <td>-0.886491</td>\n",
       "      <td>0.885333</td>\n",
       "      <td>-0.761688</td>\n",
       "      <td>-0.670143</td>\n",
       "      <td>0.924650</td>\n",
       "      <td>0.589725</td>\n",
       "      <td>0.903842</td>\n",
       "    </tr>\n",
       "    <tr>\n",
       "      <th>losers</th>\n",
       "      <td>-0.913242</td>\n",
       "      <td>-0.909034</td>\n",
       "      <td>0.494381</td>\n",
       "      <td>0.929736</td>\n",
       "      <td>0.944514</td>\n",
       "      <td>0.821083</td>\n",
       "      <td>-0.809372</td>\n",
       "      <td>-0.886491</td>\n",
       "      <td>1.000000</td>\n",
       "      <td>-0.726257</td>\n",
       "      <td>0.869899</td>\n",
       "      <td>0.488644</td>\n",
       "      <td>-0.940262</td>\n",
       "      <td>-0.414208</td>\n",
       "      <td>-0.892854</td>\n",
       "    </tr>\n",
       "    <tr>\n",
       "      <th>total_expenditures</th>\n",
       "      <td>0.781037</td>\n",
       "      <td>0.722605</td>\n",
       "      <td>-0.298756</td>\n",
       "      <td>-0.872403</td>\n",
       "      <td>-0.836933</td>\n",
       "      <td>-0.825992</td>\n",
       "      <td>0.784621</td>\n",
       "      <td>0.885333</td>\n",
       "      <td>-0.726257</td>\n",
       "      <td>1.000000</td>\n",
       "      <td>-0.670171</td>\n",
       "      <td>-0.775035</td>\n",
       "      <td>0.858887</td>\n",
       "      <td>0.699799</td>\n",
       "      <td>0.878971</td>\n",
       "    </tr>\n",
       "    <tr>\n",
       "      <th>labor_force_pr</th>\n",
       "      <td>-0.941233</td>\n",
       "      <td>-0.926848</td>\n",
       "      <td>0.295334</td>\n",
       "      <td>0.925589</td>\n",
       "      <td>0.944752</td>\n",
       "      <td>0.805012</td>\n",
       "      <td>-0.691852</td>\n",
       "      <td>-0.761688</td>\n",
       "      <td>0.869899</td>\n",
       "      <td>-0.670171</td>\n",
       "      <td>1.000000</td>\n",
       "      <td>0.408029</td>\n",
       "      <td>-0.927290</td>\n",
       "      <td>-0.271155</td>\n",
       "      <td>-0.904213</td>\n",
       "    </tr>\n",
       "    <tr>\n",
       "      <th>producer_price_index</th>\n",
       "      <td>-0.496051</td>\n",
       "      <td>-0.335281</td>\n",
       "      <td>0.344231</td>\n",
       "      <td>0.641777</td>\n",
       "      <td>0.586836</td>\n",
       "      <td>0.550419</td>\n",
       "      <td>-0.595127</td>\n",
       "      <td>-0.670143</td>\n",
       "      <td>0.488644</td>\n",
       "      <td>-0.775035</td>\n",
       "      <td>0.408029</td>\n",
       "      <td>1.000000</td>\n",
       "      <td>-0.619440</td>\n",
       "      <td>-0.737782</td>\n",
       "      <td>-0.621928</td>\n",
       "    </tr>\n",
       "    <tr>\n",
       "      <th>gross_domestic_product</th>\n",
       "      <td>0.959274</td>\n",
       "      <td>0.933372</td>\n",
       "      <td>-0.451033</td>\n",
       "      <td>-0.991416</td>\n",
       "      <td>-0.993347</td>\n",
       "      <td>-0.899720</td>\n",
       "      <td>0.823856</td>\n",
       "      <td>0.924650</td>\n",
       "      <td>-0.940262</td>\n",
       "      <td>0.858887</td>\n",
       "      <td>-0.927290</td>\n",
       "      <td>-0.619440</td>\n",
       "      <td>1.000000</td>\n",
       "      <td>0.510506</td>\n",
       "      <td>0.976960</td>\n",
       "    </tr>\n",
       "    <tr>\n",
       "      <th>federal_funds_rate</th>\n",
       "      <td>0.372566</td>\n",
       "      <td>0.384849</td>\n",
       "      <td>-0.441148</td>\n",
       "      <td>-0.517291</td>\n",
       "      <td>-0.464792</td>\n",
       "      <td>-0.534462</td>\n",
       "      <td>0.497295</td>\n",
       "      <td>0.589725</td>\n",
       "      <td>-0.414208</td>\n",
       "      <td>0.699799</td>\n",
       "      <td>-0.271155</td>\n",
       "      <td>-0.737782</td>\n",
       "      <td>0.510506</td>\n",
       "      <td>1.000000</td>\n",
       "      <td>0.561913</td>\n",
       "    </tr>\n",
       "    <tr>\n",
       "      <th>housing_price_index</th>\n",
       "      <td>0.960468</td>\n",
       "      <td>0.923467</td>\n",
       "      <td>-0.353817</td>\n",
       "      <td>-0.975517</td>\n",
       "      <td>-0.972029</td>\n",
       "      <td>-0.903926</td>\n",
       "      <td>0.789606</td>\n",
       "      <td>0.903842</td>\n",
       "      <td>-0.892854</td>\n",
       "      <td>0.878971</td>\n",
       "      <td>-0.904213</td>\n",
       "      <td>-0.621928</td>\n",
       "      <td>0.976960</td>\n",
       "      <td>0.561913</td>\n",
       "      <td>1.000000</td>\n",
       "    </tr>\n",
       "  </tbody>\n",
       "</table>\n",
       "</div>"
      ],
      "text/plain": [
       "                                   sp500  consumer_price_index  \\\n",
       "sp500                           1.000000              0.923372   \n",
       "consumer_price_index            0.923372              1.000000   \n",
       "long_interest_rate             -0.268089             -0.434417   \n",
       "total_unemployed               -0.959047             -0.921749   \n",
       "more_than_15_weeks             -0.971915             -0.939406   \n",
       "not_in_labor_searched_for_work -0.856560             -0.883247   \n",
       "multi_jobs                      0.742614              0.714263   \n",
       "leavers                         0.855760              0.841448   \n",
       "losers                         -0.913242             -0.909034   \n",
       "total_expenditures              0.781037              0.722605   \n",
       "labor_force_pr                 -0.941233             -0.926848   \n",
       "producer_price_index           -0.496051             -0.335281   \n",
       "gross_domestic_product          0.959274              0.933372   \n",
       "federal_funds_rate              0.372566              0.384849   \n",
       "housing_price_index             0.960468              0.923467   \n",
       "\n",
       "                                long_interest_rate  total_unemployed  \\\n",
       "sp500                                    -0.268089         -0.959047   \n",
       "consumer_price_index                     -0.434417         -0.921749   \n",
       "long_interest_rate                        1.000000          0.410265   \n",
       "total_unemployed                          0.410265          1.000000   \n",
       "more_than_15_weeks                        0.403301          0.994147   \n",
       "not_in_labor_searched_for_work            0.403981          0.896420   \n",
       "multi_jobs                               -0.411748         -0.825065   \n",
       "leavers                                  -0.509524         -0.917441   \n",
       "losers                                    0.494381          0.929736   \n",
       "total_expenditures                       -0.298756         -0.872403   \n",
       "labor_force_pr                            0.295334          0.925589   \n",
       "producer_price_index                      0.344231          0.641777   \n",
       "gross_domestic_product                   -0.451033         -0.991416   \n",
       "federal_funds_rate                       -0.441148         -0.517291   \n",
       "housing_price_index                      -0.353817         -0.975517   \n",
       "\n",
       "                                more_than_15_weeks  \\\n",
       "sp500                                    -0.971915   \n",
       "consumer_price_index                     -0.939406   \n",
       "long_interest_rate                        0.403301   \n",
       "total_unemployed                          0.994147   \n",
       "more_than_15_weeks                        1.000000   \n",
       "not_in_labor_searched_for_work            0.893572   \n",
       "multi_jobs                               -0.803648   \n",
       "leavers                                  -0.905185   \n",
       "losers                                    0.944514   \n",
       "total_expenditures                       -0.836933   \n",
       "labor_force_pr                            0.944752   \n",
       "producer_price_index                      0.586836   \n",
       "gross_domestic_product                   -0.993347   \n",
       "federal_funds_rate                       -0.464792   \n",
       "housing_price_index                      -0.972029   \n",
       "\n",
       "                                not_in_labor_searched_for_work  multi_jobs  \\\n",
       "sp500                                                -0.856560    0.742614   \n",
       "consumer_price_index                                 -0.883247    0.714263   \n",
       "long_interest_rate                                    0.403981   -0.411748   \n",
       "total_unemployed                                      0.896420   -0.825065   \n",
       "more_than_15_weeks                                    0.893572   -0.803648   \n",
       "not_in_labor_searched_for_work                        1.000000   -0.727847   \n",
       "multi_jobs                                           -0.727847    1.000000   \n",
       "leavers                                              -0.874050    0.773518   \n",
       "losers                                                0.821083   -0.809372   \n",
       "total_expenditures                                   -0.825992    0.784621   \n",
       "labor_force_pr                                        0.805012   -0.691852   \n",
       "producer_price_index                                  0.550419   -0.595127   \n",
       "gross_domestic_product                               -0.899720    0.823856   \n",
       "federal_funds_rate                                   -0.534462    0.497295   \n",
       "housing_price_index                                  -0.903926    0.789606   \n",
       "\n",
       "                                 leavers    losers  total_expenditures  \\\n",
       "sp500                           0.855760 -0.913242            0.781037   \n",
       "consumer_price_index            0.841448 -0.909034            0.722605   \n",
       "long_interest_rate             -0.509524  0.494381           -0.298756   \n",
       "total_unemployed               -0.917441  0.929736           -0.872403   \n",
       "more_than_15_weeks             -0.905185  0.944514           -0.836933   \n",
       "not_in_labor_searched_for_work -0.874050  0.821083           -0.825992   \n",
       "multi_jobs                      0.773518 -0.809372            0.784621   \n",
       "leavers                         1.000000 -0.886491            0.885333   \n",
       "losers                         -0.886491  1.000000           -0.726257   \n",
       "total_expenditures              0.885333 -0.726257            1.000000   \n",
       "labor_force_pr                 -0.761688  0.869899           -0.670171   \n",
       "producer_price_index           -0.670143  0.488644           -0.775035   \n",
       "gross_domestic_product          0.924650 -0.940262            0.858887   \n",
       "federal_funds_rate              0.589725 -0.414208            0.699799   \n",
       "housing_price_index             0.903842 -0.892854            0.878971   \n",
       "\n",
       "                                labor_force_pr  producer_price_index  \\\n",
       "sp500                                -0.941233             -0.496051   \n",
       "consumer_price_index                 -0.926848             -0.335281   \n",
       "long_interest_rate                    0.295334              0.344231   \n",
       "total_unemployed                      0.925589              0.641777   \n",
       "more_than_15_weeks                    0.944752              0.586836   \n",
       "not_in_labor_searched_for_work        0.805012              0.550419   \n",
       "multi_jobs                           -0.691852             -0.595127   \n",
       "leavers                              -0.761688             -0.670143   \n",
       "losers                                0.869899              0.488644   \n",
       "total_expenditures                   -0.670171             -0.775035   \n",
       "labor_force_pr                        1.000000              0.408029   \n",
       "producer_price_index                  0.408029              1.000000   \n",
       "gross_domestic_product               -0.927290             -0.619440   \n",
       "federal_funds_rate                   -0.271155             -0.737782   \n",
       "housing_price_index                  -0.904213             -0.621928   \n",
       "\n",
       "                                gross_domestic_product  federal_funds_rate  \\\n",
       "sp500                                         0.959274            0.372566   \n",
       "consumer_price_index                          0.933372            0.384849   \n",
       "long_interest_rate                           -0.451033           -0.441148   \n",
       "total_unemployed                             -0.991416           -0.517291   \n",
       "more_than_15_weeks                           -0.993347           -0.464792   \n",
       "not_in_labor_searched_for_work               -0.899720           -0.534462   \n",
       "multi_jobs                                    0.823856            0.497295   \n",
       "leavers                                       0.924650            0.589725   \n",
       "losers                                       -0.940262           -0.414208   \n",
       "total_expenditures                            0.858887            0.699799   \n",
       "labor_force_pr                               -0.927290           -0.271155   \n",
       "producer_price_index                         -0.619440           -0.737782   \n",
       "gross_domestic_product                        1.000000            0.510506   \n",
       "federal_funds_rate                            0.510506            1.000000   \n",
       "housing_price_index                           0.976960            0.561913   \n",
       "\n",
       "                                housing_price_index  \n",
       "sp500                                      0.960468  \n",
       "consumer_price_index                       0.923467  \n",
       "long_interest_rate                        -0.353817  \n",
       "total_unemployed                          -0.975517  \n",
       "more_than_15_weeks                        -0.972029  \n",
       "not_in_labor_searched_for_work            -0.903926  \n",
       "multi_jobs                                 0.789606  \n",
       "leavers                                    0.903842  \n",
       "losers                                    -0.892854  \n",
       "total_expenditures                         0.878971  \n",
       "labor_force_pr                            -0.904213  \n",
       "producer_price_index                      -0.621928  \n",
       "gross_domestic_product                     0.976960  \n",
       "federal_funds_rate                         0.561913  \n",
       "housing_price_index                        1.000000  "
      ]
     },
     "execution_count": 11,
     "metadata": {},
     "output_type": "execute_result"
    }
   ],
   "source": [
    "corr_matrix=df_data.corr()\n",
    "corr_matrix"
   ]
  },
  {
   "cell_type": "code",
   "execution_count": 12,
   "metadata": {
    "scrolled": false
   },
   "outputs": [
    {
     "data": {
      "text/plain": [
       "sp500                             0.960468\n",
       "consumer_price_index              0.923467\n",
       "long_interest_rate               -0.353817\n",
       "total_unemployed                 -0.975517\n",
       "more_than_15_weeks               -0.972029\n",
       "not_in_labor_searched_for_work   -0.903926\n",
       "multi_jobs                        0.789606\n",
       "leavers                           0.903842\n",
       "losers                           -0.892854\n",
       "total_expenditures                0.878971\n",
       "labor_force_pr                   -0.904213\n",
       "producer_price_index             -0.621928\n",
       "gross_domestic_product            0.976960\n",
       "federal_funds_rate                0.561913\n",
       "housing_price_index               1.000000\n",
       "Name: housing_price_index, dtype: float64"
      ]
     },
     "execution_count": 12,
     "metadata": {},
     "output_type": "execute_result"
    }
   ],
   "source": [
    "#查看因变量与自变量之间的相关性，筛选变量\n",
    "corr_matrix[\"housing_price_index\"]"
   ]
  },
  {
   "cell_type": "markdown",
   "metadata": {},
   "source": [
    "利用因变量之间的共线性进行筛选。total_unemployed、more_than_15_weeks、not_in_labor_searched_for_work、leavers对y的影响都很大，但它们之间存在高度的共线性，因此只取total_unemployed即可；结合散点图，long_interest_rated 线性关系不明显，删除该变量;producer_price_index,federal_funds_rate与因变量微弱相关，可以保留。其他变量对因变量的影响较大，确定进入模型。\n",
    "选择特征时，首先根据业务知识和与y的相关性，选取影响较大的因素，然后再考虑共线性问题，如果实在不知道怎么选，可以先保留，跑完模型之后再调整。"
   ]
  },
  {
   "cell_type": "markdown",
   "metadata": {},
   "source": [
    "# 3.构建训练集与测试集"
   ]
  },
  {
   "cell_type": "markdown",
   "metadata": {},
   "source": [
    "#重新定义自变量和因变量"
   ]
  },
  {
   "cell_type": "code",
   "execution_count": 27,
   "metadata": {
    "scrolled": true
   },
   "outputs": [
    {
     "data": {
      "text/html": [
       "<div>\n",
       "<style scoped>\n",
       "    .dataframe tbody tr th:only-of-type {\n",
       "        vertical-align: middle;\n",
       "    }\n",
       "\n",
       "    .dataframe tbody tr th {\n",
       "        vertical-align: top;\n",
       "    }\n",
       "\n",
       "    .dataframe thead th {\n",
       "        text-align: right;\n",
       "    }\n",
       "</style>\n",
       "<table border=\"1\" class=\"dataframe\">\n",
       "  <thead>\n",
       "    <tr style=\"text-align: right;\">\n",
       "      <th></th>\n",
       "      <th>sp500</th>\n",
       "      <th>consumer_price_index</th>\n",
       "      <th>total_unemployed</th>\n",
       "      <th>total_expenditures</th>\n",
       "      <th>labor_force_pr</th>\n",
       "      <th>producer_price_index</th>\n",
       "      <th>gross_domestic_product</th>\n",
       "      <th>federal_funds_rate</th>\n",
       "    </tr>\n",
       "  </thead>\n",
       "  <tbody>\n",
       "    <tr>\n",
       "      <th>0</th>\n",
       "      <td>1282.62</td>\n",
       "      <td>220.22</td>\n",
       "      <td>16.2</td>\n",
       "      <td>5766.7</td>\n",
       "      <td>64.2</td>\n",
       "      <td>192.7</td>\n",
       "      <td>14881.3</td>\n",
       "      <td>0.17</td>\n",
       "    </tr>\n",
       "    <tr>\n",
       "      <th>1</th>\n",
       "      <td>1331.51</td>\n",
       "      <td>224.91</td>\n",
       "      <td>16.1</td>\n",
       "      <td>5870.8</td>\n",
       "      <td>64.2</td>\n",
       "      <td>203.1</td>\n",
       "      <td>14989.6</td>\n",
       "      <td>0.10</td>\n",
       "    </tr>\n",
       "    <tr>\n",
       "      <th>2</th>\n",
       "      <td>1325.19</td>\n",
       "      <td>225.92</td>\n",
       "      <td>15.9</td>\n",
       "      <td>5802.6</td>\n",
       "      <td>64.0</td>\n",
       "      <td>204.6</td>\n",
       "      <td>15021.1</td>\n",
       "      <td>0.07</td>\n",
       "    </tr>\n",
       "    <tr>\n",
       "      <th>3</th>\n",
       "      <td>1207.22</td>\n",
       "      <td>226.42</td>\n",
       "      <td>15.8</td>\n",
       "      <td>5812.9</td>\n",
       "      <td>64.1</td>\n",
       "      <td>201.1</td>\n",
       "      <td>15190.3</td>\n",
       "      <td>0.07</td>\n",
       "    </tr>\n",
       "    <tr>\n",
       "      <th>4</th>\n",
       "      <td>1300.58</td>\n",
       "      <td>226.66</td>\n",
       "      <td>15.2</td>\n",
       "      <td>5765.7</td>\n",
       "      <td>63.7</td>\n",
       "      <td>200.7</td>\n",
       "      <td>15291.0</td>\n",
       "      <td>0.08</td>\n",
       "    </tr>\n",
       "  </tbody>\n",
       "</table>\n",
       "</div>"
      ],
      "text/plain": [
       "     sp500  consumer_price_index  total_unemployed  total_expenditures  \\\n",
       "0  1282.62                220.22              16.2              5766.7   \n",
       "1  1331.51                224.91              16.1              5870.8   \n",
       "2  1325.19                225.92              15.9              5802.6   \n",
       "3  1207.22                226.42              15.8              5812.9   \n",
       "4  1300.58                226.66              15.2              5765.7   \n",
       "\n",
       "   labor_force_pr  producer_price_index  gross_domestic_product  \\\n",
       "0            64.2                 192.7                 14881.3   \n",
       "1            64.2                 203.1                 14989.6   \n",
       "2            64.0                 204.6                 15021.1   \n",
       "3            64.1                 201.1                 15190.3   \n",
       "4            63.7                 200.7                 15291.0   \n",
       "\n",
       "   federal_funds_rate  \n",
       "0                0.17  \n",
       "1                0.10  \n",
       "2                0.07  \n",
       "3                0.07  \n",
       "4                0.08  "
      ]
     },
     "execution_count": 27,
     "metadata": {},
     "output_type": "execute_result"
    }
   ],
   "source": [
    "X = df_data[['sp500','consumer_price_index','total_unemployed','total_expenditures','labor_force_pr','producer_price_index','gross_domestic_product','']]\n",
    "X.head()  #查看数据\n",
    "X.shape   #查看数据结构"
   ]
  },
  {
   "cell_type": "code",
   "execution_count": 29,
   "metadata": {
    "scrolled": false
   },
   "outputs": [
    {
     "data": {
      "text/html": [
       "<div>\n",
       "<style scoped>\n",
       "    .dataframe tbody tr th:only-of-type {\n",
       "        vertical-align: middle;\n",
       "    }\n",
       "\n",
       "    .dataframe tbody tr th {\n",
       "        vertical-align: top;\n",
       "    }\n",
       "\n",
       "    .dataframe thead th {\n",
       "        text-align: right;\n",
       "    }\n",
       "</style>\n",
       "<table border=\"1\" class=\"dataframe\">\n",
       "  <thead>\n",
       "    <tr style=\"text-align: right;\">\n",
       "      <th></th>\n",
       "      <th>housing_price_index</th>\n",
       "    </tr>\n",
       "  </thead>\n",
       "  <tbody>\n",
       "    <tr>\n",
       "      <th>0</th>\n",
       "      <td>181.35</td>\n",
       "    </tr>\n",
       "    <tr>\n",
       "      <th>1</th>\n",
       "      <td>180.80</td>\n",
       "    </tr>\n",
       "    <tr>\n",
       "      <th>2</th>\n",
       "      <td>184.25</td>\n",
       "    </tr>\n",
       "    <tr>\n",
       "      <th>3</th>\n",
       "      <td>181.51</td>\n",
       "    </tr>\n",
       "    <tr>\n",
       "      <th>4</th>\n",
       "      <td>179.13</td>\n",
       "    </tr>\n",
       "  </tbody>\n",
       "</table>\n",
       "</div>"
      ],
      "text/plain": [
       "   housing_price_index\n",
       "0               181.35\n",
       "1               180.80\n",
       "2               184.25\n",
       "3               181.51\n",
       "4               179.13"
      ]
     },
     "execution_count": 29,
     "metadata": {},
     "output_type": "execute_result"
    }
   ],
   "source": [
    "y = df_data[[\"housing_price_index\"]]\n",
    "y.head()\n",
    "y.shape"
   ]
  },
  {
   "cell_type": "markdown",
   "metadata": {},
   "source": [
    "#3.1构建训练集与测试集"
   ]
  },
  {
   "cell_type": "code",
   "execution_count": 31,
   "metadata": {},
   "outputs": [],
   "source": [
    "from sklearn.cross_validation import train_test_split "
   ]
  },
  {
   "cell_type": "code",
   "execution_count": 32,
   "metadata": {},
   "outputs": [],
   "source": [
    "X_train,X_test,y_train,y_test = train_test_split(X, y, random_state=1) \n",
    "#python默认75%分为训练集，25%分为测试集，也可以用test_size=0.3(0.3可按需调整)函数自定义"
   ]
  },
  {
   "cell_type": "code",
   "execution_count": 33,
   "metadata": {
    "scrolled": true
   },
   "outputs": [
    {
     "name": "stdout",
     "output_type": "stream",
     "text": [
      "(17, 8)\n",
      "(17, 1)\n",
      "(6, 8)\n",
      "(6, 1)\n"
     ]
    }
   ],
   "source": [
    "print (X_train.shape)\n",
    "print (y_train.shape)\n",
    "print (X_test.shape)\n",
    "print (y_test.shape)"
   ]
  },
  {
   "cell_type": "markdown",
   "metadata": {},
   "source": [
    "#3.2数据归一化：各个特征之间的数据差异还是比较大的，消除量纲和离群值的影响"
   ]
  },
  {
   "cell_type": "code",
   "execution_count": 34,
   "metadata": {},
   "outputs": [],
   "source": [
    "from sklearn.preprocessing import StandardScaler  \n",
    " #调用StandardScaler类进行归一化处理"
   ]
  },
  {
   "cell_type": "code",
   "execution_count": 35,
   "metadata": {},
   "outputs": [],
   "source": [
    "X_scaler = StandardScaler()\n",
    "y_scaler = StandardScaler()\n",
    "X_train = X_scaler.fit_transform(X_train)\n",
    "y_train = y_scaler.fit_transform(y_train)\n",
    "X_test = X_scaler.transform(X_test)\n",
    "y_test = y_scaler.transform(y_test)"
   ]
  },
  {
   "cell_type": "markdown",
   "metadata": {},
   "source": []
  },
  {
   "cell_type": "markdown",
   "metadata": {},
   "source": [
    "# 4.训练模型"
   ]
  },
  {
   "cell_type": "markdown",
   "metadata": {},
   "source": [
    "#通过调用sklearn建立模型"
   ]
  },
  {
   "cell_type": "code",
   "execution_count": 36,
   "metadata": {},
   "outputs": [],
   "source": [
    "from sklearn import linear_model"
   ]
  },
  {
   "cell_type": "code",
   "execution_count": 37,
   "metadata": {
    "scrolled": true
   },
   "outputs": [
    {
     "name": "stdout",
     "output_type": "stream",
     "text": [
      "LinearRegression(copy_X=True, fit_intercept=True, n_jobs=1, normalize=False)\n",
      "[  4.68404883e-15]\n",
      "[[ 0.95895229  0.80800518  0.8844055  -0.01311927  0.17817073 -0.45800335\n",
      "   0.12294737 -0.04988814]]\n"
     ]
    }
   ],
   "source": [
    "model = linear_model.LinearRegression()\n",
    "model.fit(X_train,y_train)\n",
    "print(model)\n",
    "print(model.intercept_)  #截距\n",
    "print(model.coef_)       #系数"
   ]
  },
  {
   "cell_type": "code",
   "execution_count": 41,
   "metadata": {
    "scrolled": false
   },
   "outputs": [
    {
     "name": "stdout",
     "output_type": "stream",
     "text": [
      "['sp500', 'consumer_price_index', 'total_unemployed', 'total_expenditures', 'labor_force_pr', 'producer_price_index', 'gross_domestic_product', 'federal_funds_rate']\n"
     ]
    }
   ],
   "source": [
    "features = ['sp500','consumer_price_index','total_unemployed','total_expenditures','labor_force_pr','producer_price_index','gross_domestic_product','federal_funds_rate']\n",
    "para = model.coef_.tolist()\n",
    "for each in zip(features,para[0]):\n",
    "    print(each)"
   ]
  },
  {
   "cell_type": "markdown",
   "metadata": {},
   "source": [
    "回归方程：y = 4.68 + 0.95*sp500 + 0.808*consumer_price_index + 0.884*total_unemployed - 0.013*total_expenditures + 0.178*labor_force_pr - 0.458*producer_price_index + 0.123*gross_domestic_product - 0.049*federal_funds_rate "
   ]
  },
  {
   "cell_type": "markdown",
   "metadata": {},
   "source": [
    "# 5.结果预测"
   ]
  },
  {
   "cell_type": "code",
   "execution_count": 44,
   "metadata": {
    "scrolled": true
   },
   "outputs": [
    {
     "name": "stdout",
     "output_type": "stream",
     "text": [
      "[[ 1.11608178]\n",
      " [ 1.56608251]\n",
      " [-1.11679755]\n",
      " [ 0.2285434 ]\n",
      " [ 1.24914641]\n",
      " [ 1.0839498 ]]\n"
     ]
    }
   ],
   "source": [
    "#使用测试集评价模型\n",
    "#打印预测结果\n",
    "y_pred = model.predict(X_test)\n",
    "print(y_pred)"
   ]
  },
  {
   "cell_type": "code",
   "execution_count": 55,
   "metadata": {},
   "outputs": [
    {
     "data": {
      "image/png": "[encoded data removed]",
      "text/plain": [
       "<matplotlib.figure.Figure at 0x1be3ae02dd8>"
      ]
     },
     "metadata": {},
     "output_type": "display_data"
    }
   ],
   "source": [
    "#做回归散点图\n",
    "fig,ax = plt.subplots()\n",
    "ax.scatter(y_test, y_pred,marker='s',color='#00b8e5')\n",
    "ax.plot([y_test.min(), y_test.max()],[y_pred.min(), y_pred.max()],color='red',linestyle='-',lw=4)\n",
    "ax.set_xlabel('Measured')\n",
    "ax.set_ylabel('Predicted')\n",
    "plt.show()"
   ]
  },
  {
   "cell_type": "markdown",
   "metadata": {},
   "source": [
    "# 6.检验"
   ]
  },
  {
   "cell_type": "markdown",
   "metadata": {},
   "source": [
    "#RMSE"
   ]
  },
  {
   "cell_type": "code",
   "execution_count": 52,
   "metadata": {
    "scrolled": true
   },
   "outputs": [
    {
     "name": "stdout",
     "output_type": "stream",
     "text": [
      "MAE: 0.257882638859\n",
      "MSE: 0.0948076974285\n",
      "RMSE: 0.307908586156\n"
     ]
    }
   ],
   "source": [
    "from sklearn import metrics\n",
    "# 计算MAE\n",
    "MAE=metrics.mean_absolute_error(y_test,y_pred)\n",
    "#计算MSE\n",
    "MSE=metrics.mean_squared_error(y_test,y_pred)\n",
    "# 计算RMSE\n",
    "RMSE=np.sqrt(metrics.mean_squared_error(y_test,y_pred))\n",
    "print(\"MAE:\",MAE)\n",
    "print(\"MSE:\",MSE)\n",
    "print(\"RMSE:\",RMSE)"
   ]
  },
  {
   "cell_type": "markdown",
   "metadata": {},
   "source": [
    "    MAE :Mean Absolute Error ,平均绝对误差是绝对误差的平均值 ,平均绝对误差能更好地反映预测值误差的实际情况。\n",
    "    MSE: Mean Squared Error ,均方误差是指参数估计值与参数真值之差平方的期望值; MSE可以评价数据的变化程度，MSE的值越小，说明预测模型描述实验数据具有更好的精确度。\n",
    "    RMSE :均方根误差是均方误差的算术平方根，RMSE值越接近1表明模型拟合度越好。"
   ]
  },
  {
   "cell_type": "markdown",
   "metadata": {},
   "source": [
    "#R方"
   ]
  },
  {
   "cell_type": "code",
   "execution_count": 57,
   "metadata": {
    "scrolled": true
   },
   "outputs": [
    {
     "name": "stdout",
     "output_type": "stream",
     "text": [
      "Predicted: [ 1.11608178], Target: [ 1.34917105]\n",
      "Predicted: [ 1.56608251], Target: [ 1.04666856]\n",
      "Predicted: [-1.11679755], Target: [-1.07190293]\n",
      "Predicted: [ 0.2285434], Target: [ 0.42954238]\n",
      "Predicted: [ 1.24914641], Target: [ 1.36287326]\n",
      "Predicted: [ 1.0839498], Target: [ 0.64877764]\n",
      "R-squared: 0.86\n"
     ]
    }
   ],
   "source": [
    "y_pred1 = y_pred.tolist()\n",
    "#print(y_pred1)\n",
    "y_pred1 = np.array(y_pred1)\n",
    "#print(y_pred1)\n",
    "y_pred1.shape\n",
    "for i, y_pred1 in enumerate(y_pred1):\n",
    "    print('Predicted: %s, Target: %s' % (y_pred1, y_test[i]))\n",
    "print('R-squared: %.2f' % model.score(X_test, y_test))"
   ]
  },
  {
   "cell_type": "markdown",
   "metadata": {},
   "source": [
    "R²为决定系数，反应因变量的全部变异能通过回归关系被自变量解释的比例。R²的值越接近1，说明回归直线对观测值的拟合程度越好；反之，R²的值越小，说明回归直线对观测值的拟合程度越差。这里可以看出，模型可以解释86%的变异。"
   ]
  },
  {
   "cell_type": "markdown",
   "metadata": {},
   "source": [
    "#ROC曲线"
   ]
  },
  {
   "cell_type": "code",
   "execution_count": 69,
   "metadata": {},
   "outputs": [],
   "source": [
    "import matplotlib as mpl\n",
    "import matplotlib.pyplot as plt\n",
    "%matplotlib inline\n"
   ]
  },
  {
   "cell_type": "code",
   "execution_count": 70,
   "metadata": {
    "scrolled": true
   },
   "outputs": [
    {
     "data": {
      "image/png": "[encoded data removed]",
      "text/plain": [
       "<matplotlib.figure.Figure at 0x2249b3d6860>"
      ]
     },
     "metadata": {},
     "output_type": "display_data"
    }
   ],
   "source": [
    "plt.figure()\n",
    "plt.plot(range(len(y_pred1)),y_pred1,'b',label=\"predict\")\n",
    "plt.plot(range(len(y_pred1)),y_test,'r',label=\"test\")\n",
    "plt.legend(loc=\"upper right\") \n",
    "plt.xlabel(\"number of hpi\")\n",
    "plt.ylabel('value of hpi')\n",
    "plt.show()"
   ]
  },
  {
   "cell_type": "markdown",
   "metadata": {},
   "source": [
    "图中，红线为测试曲线，蓝线为预测曲线，横轴为预测与测试的样本量，纵轴为房价的测试值和预测值。ROC曲线可以很直观的观察和判断模型的拟合情况。"
   ]
  },
  {
   "cell_type": "markdown",
   "metadata": {},
   "source": [
    "# 调整1"
   ]
  },
  {
   "cell_type": "markdown",
   "metadata": {},
   "source": [
    "上述模型中选入的自变量太多（8个）很容易出现过拟合的情况，结合上面的预分析与预测结果，producer_price_index,federal_funds_rate与因变量微弱相关，删除这两个变量，重新训练模型，观察一下预测结果、RMSE,R方，回归曲线的变化"
   ]
  },
  {
   "cell_type": "code",
   "execution_count": 11,
   "metadata": {
    "scrolled": false
   },
   "outputs": [
    {
     "name": "stdout",
     "output_type": "stream",
     "text": [
      "LinearRegression(copy_X=True, fit_intercept=True, n_jobs=1, normalize=False)\n",
      "[  2.28995322e-15]\n",
      "[[ 0.6297255  -0.06635981  0.13269135  0.06109493  0.19806611  0.69127098]]\n",
      "MAE2: 0.201829333784\n",
      "MSE2: 0.0866981163728\n",
      "RMSE2: 0.294445438703\n"
     ]
    }
   ],
   "source": [
    "import sklearn \n",
    "from sklearn.cross_validation import train_test_split\n",
    "#重新定义X，y\n",
    "X2 = df_data[['sp500','consumer_price_index','total_unemployed','total_expenditures','labor_force_pr','gross_domestic_product']]\n",
    "y2 = df_data[[\"housing_price_index\"]]\n",
    "#print(X2,y2)\n",
    "#构建测试集与训练集\n",
    "X_train2,X_test2,y_train2,y_test2 = train_test_split(X2, y2, random_state=1)\n",
    "#数据归一化\n",
    "from sklearn.preprocessing import StandardScaler\n",
    "X_scaler2 = StandardScaler()\n",
    "y_scaler2 = StandardScaler()\n",
    "X_train2 = X_scaler2.fit_transform(X_train2)\n",
    "y_train2 = y_scaler2.fit_transform(y_train2)\n",
    "X_test2 = X_scaler2.transform(X_test2)\n",
    "y_test2 = y_scaler2.transform(y_test2)\n",
    "#print(X_train2,y_train2)\n",
    "#构建线性拟合模型\n",
    "from sklearn.linear_model import LinearRegression\n",
    "from sklearn import linear_model\n",
    "model2 = linear_model.LinearRegression()\n",
    "model2.fit(X_train2,y_train2)\n",
    "print(model2)\n",
    "print(model2.intercept_)\n",
    "print(model2.coef_)\n",
    "#结果预测\n",
    "y_pred2 = model2.predict(X_test2)\n",
    "\n",
    "from sklearn import metrics\n",
    "# 计算MAE\n",
    "MAE2=metrics.mean_absolute_error(y_test2,y_pred2)\n",
    "#计算MSE\n",
    "MSE2=metrics.mean_squared_error(y_test2,y_pred2)\n",
    "# 计算RMSE\n",
    "RMSE2=np.sqrt(metrics.mean_squared_error(y_test2,y_pred2))\n",
    "print(\"MAE2:\",MAE2)\n",
    "print(\"MSE2:\",MSE2)\n",
    "print(\"RMSE2:\",RMSE2)"
   ]
  },
  {
   "cell_type": "markdown",
   "metadata": {},
   "source": [
    "回归方程：y = 2.289 + 0.6297255*sp500 - 0.06635981*consumer_price_index +0.13269135*total_unemployed + 0.06109493*total_expenditures + 0.19806611*labor_force_pr + 0.69127098*gross_domestic_product "
   ]
  },
  {
   "cell_type": "code",
   "execution_count": 13,
   "metadata": {},
   "outputs": [
    {
     "data": {
      "image/png": "[encoded data removed]",
      "text/plain": [
       "<matplotlib.figure.Figure at 0x1d298949160>"
      ]
     },
     "metadata": {},
     "output_type": "display_data"
    }
   ],
   "source": [
    "#看一下回归曲线\n",
    "import matplotlib as mpl\n",
    "import matplotlib.pyplot as plt\n",
    "%matplotlib inline\n",
    "fig,ax = plt.subplots()\n",
    "ax.scatter(y_test2, y_pred2,marker='s',color='#00b8e5')\n",
    "ax.plot([y_test2.min(), y_test2.max()],[y_pred2.min(), y_pred2.max()],color='red',linestyle='-',lw=4)\n",
    "ax.set_xlabel('Measured')\n",
    "ax.set_ylabel('Predicted')\n",
    "plt.show()"
   ]
  },
  {
   "cell_type": "markdown",
   "metadata": {},
   "source": [
    "曲线拟合度比第一次要好一点"
   ]
  },
  {
   "cell_type": "code",
   "execution_count": 16,
   "metadata": {},
   "outputs": [
    {
     "name": "stdout",
     "output_type": "stream",
     "text": [
      "Predicted: [ 1.23198548], Target: [ 1.34917105]\n",
      "Predicted: [ 1.42194729], Target: [ 1.04666856]\n",
      "Predicted: [-1.06151731], Target: [-1.07190293]\n",
      "Predicted: [ 0.39305275], Target: [ 0.42954238]\n",
      "Predicted: [ 1.29033722], Target: [ 1.36287326]\n",
      "Predicted: [ 1.24787804], Target: [ 0.64877764]\n",
      "R-squared: 0.88\n"
     ]
    }
   ],
   "source": [
    "#看一下R方\n",
    "y_pred22 = y_pred2.tolist()\n",
    "#print(y_pred1)\n",
    "y_pred22 = np.array(y_pred22)\n",
    "#print(y_pred1)\n",
    "#y_pred1.shape\n",
    "for i, y_pred22 in enumerate(y_pred22):\n",
    "    print('Predicted: %s, Target: %s' % (y_pred22, y_test2[i]))\n",
    "print('R-squared: %.2f' % model2.score(X_test2, y_test2))"
   ]
  },
  {
   "cell_type": "markdown",
   "metadata": {},
   "source": [
    "R方比第一次提升2个百分点，说明变量减少后模型拟合精度有所提升"
   ]
  },
  {
   "cell_type": "code",
   "execution_count": 17,
   "metadata": {
    "scrolled": false
   },
   "outputs": [
    {
     "data": {
      "image/png": "[encoded data removed]",
      "text/plain": [
       "<matplotlib.figure.Figure at 0x1d29a6d1208>"
      ]
     },
     "metadata": {},
     "output_type": "display_data"
    }
   ],
   "source": [
    "#再看一下ROC曲线\n",
    "plt.figure()\n",
    "plt.plot(range(len(y_pred2)),y_pred2,'b',label=\"predict\")\n",
    "plt.plot(range(len(y_pred2)),y_test2,'r',label=\"test\")\n",
    "plt.legend(loc=\"upper right\") \n",
    "plt.xlabel(\"number of hpi\")\n",
    "plt.ylabel('value of hpi')\n",
    "plt.show()"
   ]
  },
  {
   "cell_type": "markdown",
   "metadata": {},
   "source": [
    "# 调整2"
   ]
  },
  {
   "cell_type": "markdown",
   "metadata": {},
   "source": [
    "结合调整1的结果，将与因变量相关性较低的'total_expenditures','labor_force_pr'2个变量剔除，保留4个变量，再次训练模型，观察变化"
   ]
  },
  {
   "cell_type": "code",
   "execution_count": 18,
   "metadata": {},
   "outputs": [
    {
     "name": "stdout",
     "output_type": "stream",
     "text": [
      "LinearRegression(copy_X=True, fit_intercept=True, n_jobs=1, normalize=False)\n",
      "[  2.53445107e-15]\n",
      "[[ 0.48254631 -0.19965816 -0.08302142  0.61690308]]\n",
      "MAE3: 0.222909013714\n",
      "MSE3: 0.106843611453\n",
      "RMSE3: 0.326869410396\n"
     ]
    }
   ],
   "source": [
    "import sklearn \n",
    "from sklearn.cross_validation import train_test_split\n",
    "#重新定义X，y\n",
    "X3 = df_data[['sp500','consumer_price_index','total_unemployed','gross_domestic_product']]\n",
    "y3 = df_data[[\"housing_price_index\"]]\n",
    "#print(X3,y3)\n",
    "#构建测试集与训练集\n",
    "X_train3,X_test3,y_train3,y_test3 = train_test_split(X3, y3, random_state=1)\n",
    "#数据归一化\n",
    "from sklearn.preprocessing import StandardScaler\n",
    "X_scaler3 = StandardScaler()\n",
    "y_scaler3 = StandardScaler()\n",
    "X_train3 = X_scaler3.fit_transform(X_train3)\n",
    "y_train3 = y_scaler3.fit_transform(y_train3)\n",
    "X_test3 = X_scaler3.transform(X_test3)\n",
    "y_test3 = y_scaler3.transform(y_test3)\n",
    "#print(X_train3,y_train3)\n",
    "#构建线性拟合模型\n",
    "from sklearn.linear_model import LinearRegression\n",
    "from sklearn import linear_model\n",
    "model3 = linear_model.LinearRegression()\n",
    "model3.fit(X_train3,y_train3)\n",
    "print(model3)\n",
    "print(model3.intercept_)\n",
    "print(model3.coef_)\n",
    "#结果预测\n",
    "y_pred3 = model3.predict(X_test3)\n",
    "\n",
    "from sklearn import metrics\n",
    "# 计算MAE\n",
    "MAE3=metrics.mean_absolute_error(y_test3,y_pred3)\n",
    "#计算MSE\n",
    "MSE3=metrics.mean_squared_error(y_test3,y_pred3)\n",
    "# 计算RMSE\n",
    "RMSE3=np.sqrt(metrics.mean_squared_error(y_test3,y_pred3))\n",
    "print(\"MAE3:\",MAE3)\n",
    "print(\"MSE3:\",MSE3)\n",
    "print(\"RMSE3:\",RMSE3)"
   ]
  },
  {
   "cell_type": "code",
   "execution_count": 19,
   "metadata": {
    "scrolled": true
   },
   "outputs": [
    {
     "data": {
      "image/png": "[encoded data removed]",
      "text/plain": [
       "<matplotlib.figure.Figure at 0x1d29a657d30>"
      ]
     },
     "metadata": {},
     "output_type": "display_data"
    }
   ],
   "source": [
    "#再看一下回归曲线\n",
    "import matplotlib as mpl\n",
    "import matplotlib.pyplot as plt\n",
    "%matplotlib inline\n",
    "fig,ax = plt.subplots()\n",
    "ax.scatter(y_test3, y_pred3,marker='s',color='#00b8e5')\n",
    "ax.plot([y_test3.min(), y_test3.max()],[y_pred3.min(), y_pred3.max()],color='red',linestyle='-',lw=4)\n",
    "ax.set_xlabel('Measured')\n",
    "ax.set_ylabel('Predicted')\n",
    "plt.show()"
   ]
  },
  {
   "cell_type": "markdown",
   "metadata": {},
   "source": [
    "模型拟合效果有所提升"
   ]
  },
  {
   "cell_type": "code",
   "execution_count": 21,
   "metadata": {},
   "outputs": [
    {
     "name": "stdout",
     "output_type": "stream",
     "text": [
      "Predicted: [ 1.37490956], Target: [ 1.34917105]\n",
      "Predicted: [ 1.46095492], Target: [ 1.04666856]\n",
      "Predicted: [-1.13858278], Target: [-1.07190293]\n",
      "Predicted: [ 0.47634446], Target: [ 0.42954238]\n",
      "Predicted: [ 1.47659999], Target: [ 1.36287326]\n",
      "Predicted: [ 1.31899821], Target: [ 0.64877764]\n",
      "R-squared: 0.85\n"
     ]
    }
   ],
   "source": [
    "#再看一下R方\n",
    "y_pred33 = y_pred3.tolist()\n",
    "#print(y_pred1)\n",
    "y_pred33 = np.array(y_pred33)\n",
    "#print(y_pred1)\n",
    "#y_pred1.shape\n",
    "for i, y_pred33 in enumerate(y_pred33):\n",
    "    print('Predicted: %s, Target: %s' % (y_pred33, y_test3[i]))\n",
    "print('R-squared: %.2f' % model3.score(X_test3, y_test3))"
   ]
  },
  {
   "cell_type": "code",
   "execution_count": 22,
   "metadata": {
    "scrolled": true
   },
   "outputs": [
    {
     "data": {
      "image/png": "[encoded data removed]",
      "text/plain": [
       "<matplotlib.figure.Figure at 0x1d298932ef0>"
      ]
     },
     "metadata": {},
     "output_type": "display_data"
    }
   ],
   "source": [
    "#再看一下ROC曲线\n",
    "plt.figure()\n",
    "plt.plot(range(len(y_pred3)),y_pred3,'b',label=\"predict\")\n",
    "plt.plot(range(len(y_pred3)),y_test3,'r',label=\"test\")\n",
    "plt.legend(loc=\"upper right\") \n",
    "plt.xlabel(\"number of hpi\")\n",
    "plt.ylabel('value of hpi')\n",
    "plt.show()"
   ]
  },
  {
   "cell_type": "markdown",
   "metadata": {},
   "source": [
    "ROC曲线变化明显"
   ]
  },
  {
   "cell_type": "markdown",
   "metadata": {},
   "source": [
    "注：可以发现机器学习中的线性回归随着特征的减少，MSE的值变大，R方变小，预测模型描述数据的精确度有所变化，模型更能够解释变异的比例有所降低。说明模型依然可能存在过拟合的问题，由于本例数据样本量较少(23个)，特征较多，就容易产生这个问题。对于本例，后续还可以根据业务经验与预测结果减少变量，保留2-3变量最佳。"
   ]
  },
  {
   "cell_type": "code",
   "execution_count": null,
   "metadata": {},
   "outputs": [],
   "source": []
  }
 ],
 "metadata": {
  "kernelspec": {
   "display_name": "Python 3",
   "language": "python",
   "name": "python3"
  },
  "language_info": {
   "codemirror_mode": {
    "name": "ipython",
    "version": 3
   },
   "file_extension": ".py",
   "mimetype": "text/x-python",
   "name": "python",
   "nbconvert_exporter": "python",
   "pygments_lexer": "ipython3",
   "version": "3.6.3"
  }
 },
 "nbformat": 4,
 "nbformat_minor": 2
}
